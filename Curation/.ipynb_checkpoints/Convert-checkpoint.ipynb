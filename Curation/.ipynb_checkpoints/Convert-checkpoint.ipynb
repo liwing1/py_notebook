{
 "cells": [
  {
   "cell_type": "code",
   "execution_count": 1,
   "id": "f8737025",
   "metadata": {},
   "outputs": [],
   "source": [
    "import csv\n",
    "import os\n",
    "import shutil\n",
    "\n",
    "import numpy as np\n",
    "import matplotlib.pyplot as plt\n",
    "import pandas as pd"
   ]
  },
  {
   "cell_type": "markdown",
   "id": "8c92381f",
   "metadata": {},
   "source": [
    "# Separa em arquivos"
   ]
  },
  {
   "cell_type": "code",
   "execution_count": 2,
   "id": "6362cd70",
   "metadata": {},
   "outputs": [
    {
     "name": "stdout",
     "output_type": "stream",
     "text": [
      "EXP0/0.10_10_0.csv\n",
      "EXP0/0.10_10_1.csv\n",
      "EXP0/0.10_10_2.csv\n",
      "EXP0/0.10_10_3.csv\n",
      "EXP0/0.10_10_4.csv\n",
      "EXP0/1.10_10_5.csv\n",
      "EXP0/1.10_10_6.csv\n",
      "EXP0/1.10_10_7.csv\n",
      "EXP0/1.10_10_8.csv\n",
      "EXP0/1.10_10_9.csv\n"
     ]
    }
   ],
   "source": [
    "# Define the input and output file names\n",
    "input_filename = \"putty.csv\"\n",
    "output_dir = \"EXP0/\"\n",
    "filename = None\n",
    "\n",
    "# Initialize flags to control whether to write lines to the output file\n",
    "writing_enabled = False\n",
    "iteration = 0\n",
    "\n",
    "# Open the input and output files\n",
    "with open(input_filename, \"r\") as input_file:\n",
    "    # Iterate through lines in the input file\n",
    "    for line in input_file:\n",
    "        # Check if the line contains the \"---\" symbol to start writing\n",
    "        if \"Filename: \" in line:\n",
    "            filename = line.strip(\"Filename: \")\n",
    "            filename = filename.strip(\"\\n\")\n",
    "            continue  # Skip this line\n",
    "        # Check if the line contains the \"---\" symbol to start writing\n",
    "        if \"---\" in line:\n",
    "            writing_enabled = True\n",
    "\n",
    "            # Create new file\n",
    "            output_filename = output_dir + filename + f'_{iteration}.csv'\n",
    "            output_file = open( output_filename, \"w\")\n",
    "            print(output_filename)\n",
    "\n",
    "            continue  # Skip this line\n",
    "        # Check if the line contains the \"+++\" symbol to stop writing\n",
    "        elif \"+++\" in line:\n",
    "            writing_enabled = False\n",
    "            iteration = iteration + 1\n",
    "            continue  # Skip this line\n",
    "        # If writing is enabled, write the line to the output file\n",
    "        if writing_enabled:\n",
    "            output_file.write(line)"
   ]
  },
  {
   "cell_type": "markdown",
   "id": "829fa624",
   "metadata": {},
   "source": [
    "# Converte os dados para SI"
   ]
  },
  {
   "cell_type": "code",
   "execution_count": 3,
   "id": "fbbf9574",
   "metadata": {
    "scrolled": true
   },
   "outputs": [
    {
     "name": "stdout",
     "output_type": "stream",
     "text": [
      "EXP0/0.10_10_0.csv ok!\n",
      "EXP0/0.10_10_1.csv ok!\n",
      "EXP0/0.10_10_2.csv ok!\n",
      "EXP0/0.10_10_3.csv ok!\n",
      "EXP0/1.10_10_4.csv ok!\n",
      "EXP0/1.10_10_5.csv ok!\n",
      "EXP0/1.10_10_6.csv ok!\n",
      "EXP0/1.10_10_7.csv ok!\n",
      "EXP0/1.10_10_8.csv ok!\n",
      "EXP0/1.10_10_9.csv ok!\n"
     ]
    }
   ],
   "source": [
    "def multiply_and_add_column(input_file, output_file, column_name, multiply_constant, add_constant):\n",
    "    # Read the input CSV file\n",
    "    df = pd.read_csv(input_file)\n",
    "\n",
    "    # Multiply the column values by the multiply_constant and add the add_constant\n",
    "    df[column_name] = df[column_name] * multiply_constant + add_constant\n",
    "\n",
    "    # Write the modified data to the output CSV file\n",
    "    df.to_csv(output_file, index=False)\n",
    "\n",
    "\n",
    "# Iterate over the files in the folder\n",
    "for filename in os.listdir('EXP0/'):\n",
    "    file_path = 'EXP0/' + filename\n",
    "    multiply_and_add_column(file_path, file_path, 'temp', 165.0/65535.0, -40)\n",
    "    multiply_and_add_column(file_path, file_path, 'humi', 100.0/65535.0, 0)\n",
    "\n",
    "    channel_list = [\"tgs2600\",\"tgs2603\",\"tgs2611\",\"tgs2602\",\"micsD\",\"micsH\",\"micsA\"]\n",
    "    for i in channel_list:\n",
    "#         multiply_and_add_column(file_path, file_path, i, 3.3/pow(2,23), 0)\n",
    "        multiply_and_add_column(file_path, file_path, i, 3.3/pow(2,23), 0)\n",
    "    print(file_path + ' ok!')\n"
   ]
  },
  {
   "cell_type": "markdown",
   "id": "93ea9d4f",
   "metadata": {},
   "source": [
    "# Print time series"
   ]
  },
  {
   "cell_type": "code",
   "execution_count": 7,
   "id": "dbc1b241",
   "metadata": {
    "scrolled": false
   },
   "outputs": [
    {
     "ename": "TypeError",
     "evalue": "plot_2_data_from_csv() missing 2 required positional arguments: 'column_list' and 'graph_name'",
     "output_type": "error",
     "traceback": [
      "\u001b[1;31m---------------------------------------------------------------------------\u001b[0m",
      "\u001b[1;31mTypeError\u001b[0m                                 Traceback (most recent call last)",
      "Cell \u001b[1;32mIn[7], line 55\u001b[0m\n\u001b[0;32m     51\u001b[0m     plt\u001b[38;5;241m.\u001b[39mshow()\n\u001b[0;32m     53\u001b[0m channel_list \u001b[38;5;241m=\u001b[39m [\u001b[38;5;124m\"\u001b[39m\u001b[38;5;124mtgs2600\u001b[39m\u001b[38;5;124m\"\u001b[39m,\u001b[38;5;124m\"\u001b[39m\u001b[38;5;124mtgs2603\u001b[39m\u001b[38;5;124m\"\u001b[39m,\u001b[38;5;124m\"\u001b[39m\u001b[38;5;124mtgs2611\u001b[39m\u001b[38;5;124m\"\u001b[39m,\u001b[38;5;124m\"\u001b[39m\u001b[38;5;124mtgs2602\u001b[39m\u001b[38;5;124m\"\u001b[39m,\u001b[38;5;124m\"\u001b[39m\u001b[38;5;124mmicsD\u001b[39m\u001b[38;5;124m\"\u001b[39m,\u001b[38;5;124m\"\u001b[39m\u001b[38;5;124mmicsH\u001b[39m\u001b[38;5;124m\"\u001b[39m,\u001b[38;5;124m\"\u001b[39m\u001b[38;5;124mmicsA\u001b[39m\u001b[38;5;124m\"\u001b[39m,\u001b[38;5;124m\"\u001b[39m\u001b[38;5;124mtemp\u001b[39m\u001b[38;5;124m\"\u001b[39m,\u001b[38;5;124m\"\u001b[39m\u001b[38;5;124mhumi\u001b[39m\u001b[38;5;124m\"\u001b[39m]\n\u001b[1;32m---> 55\u001b[0m plot_2_data_from_csv(\u001b[38;5;124m'\u001b[39m\u001b[38;5;124mEXP0/1.10_10_4.csv\u001b[39m\u001b[38;5;124m'\u001b[39m, \u001b[38;5;124m'\u001b[39m\u001b[38;5;124mEXP0/1.10_10_5.csv\u001b[39m\u001b[38;5;124m'\u001b[39m, channel_list, \u001b[38;5;124m\"\u001b[39m\u001b[38;5;124mTeste\u001b[39m\u001b[38;5;124m\"\u001b[39m)\n",
      "\u001b[1;31mTypeError\u001b[0m: plot_2_data_from_csv() missing 2 required positional arguments: 'column_list' and 'graph_name'"
     ]
    }
   ],
   "source": [
    "import matplotlib.pyplot as plt\n",
    "import matplotlib.colors as mcolors\n",
    "\n",
    "\n",
    "### Print in differnt axes\n",
    "def plot_data_from_csv(csv_file, column_list, graph_name):\n",
    "    # Read the CSV file into a DataFrame\n",
    "    df = pd.read_csv(csv_file)\n",
    "    \n",
    "    # Extract the header names as time vector and data series\n",
    "    time_vector = 'timestamp'\n",
    "    \n",
    "    # Create the figure and axis objects\n",
    "    fig, ax = plt.subplots(len(column_list), figsize=(15,30))\n",
    "    color_names = ['blue', 'orange', 'green', 'red', 'purple', 'brown', 'pink', 'gray']\n",
    "    \n",
    "    ax[0].set_title(graph_name)\n",
    "    for i in range(len(column_list)):\n",
    "        ax[i].plot(df[time_vector], df[column_list[i]], color=color_names[i % len(color_names)])\n",
    "        ax[i].set_ylabel(column_list[i])\n",
    "        \n",
    "    ax[i].set_xlabel('Time')\n",
    "    # Show the plot\n",
    "    plt.show()\n",
    "\n",
    "#### Print in the same axes\n",
    "def plot_2_data_from_csv(csv_file_1,csv_file_2,csv_file_3 =0,csv_file_4 = 0, column_list, graph_name):\n",
    "    # Read the CSV file into a DataFrame\n",
    "    \n",
    "    df1 = pd.read_csv(csv_file_1)\n",
    "    df2 = pd.read_csv(csv_file_2)\n",
    "    df3 = pd.read_csv(csv_file_3)\n",
    "    df4 = pd.read_csv(csv_file_4)\n",
    "    \n",
    "    # Extract the header names as time vector and data series\n",
    "    time_vector = 'timestamp'\n",
    "    \n",
    "    # Create the figure and axis objects\n",
    "    fig, ax = plt.subplots(len(column_list), figsize=(15,30))\n",
    "    color_names = ['blue', 'orange', 'green', 'red', 'purple', 'brown', 'pink', 'gray']\n",
    "    \n",
    "    ax[0].set_title(graph_name)    \n",
    "    for i in range(len(column_list)):\n",
    "        ax[i].plot(df1[time_vector][3:], df1[column_list[i]][3:], label=csv_file_1)\n",
    "        ax[i].plot(df2[time_vector][3:], df2[column_list[i]][3:], label=csv_file_2)\n",
    "        ax[i].plot(df3[time_vector][3:], df3[column_list[i]][3:], label=csv_file_3)\n",
    "        ax[i].plot(df4[time_vector][3:], df4[column_list[i]][3:], label=csv_file_4)\n",
    "        ax[i].set_ylabel(column_list[i])\n",
    "        ax[i].legend()  # Add a legend to distinguish curves\n",
    "    \n",
    "    ax[i].set_ylabel('Values')\n",
    "    \n",
    "    # Show the plot\n",
    "    plt.show()\n",
    "    \n",
    "channel_list = [\"tgs2600\",\"tgs2603\",\"tgs2611\",\"tgs2602\",\"micsD\",\"micsH\",\"micsA\",\"temp\",\"humi\"]\n",
    "\n",
    "plot_2_data_from_csv('EXP0/1.10_10_4.csv', 'EXP0/1.10_10_5.csv', channel_list, \"Teste\")\n",
    "# for filename in os.listdir('EXP0/'):\n",
    "#     file_path = 'EXP0/' + filename\n",
    "#     plot_data_from_csv(file_path, channel_list, file_path)\n"
   ]
  }
 ],
 "metadata": {
  "kernelspec": {
   "display_name": "Python 3 (ipykernel)",
   "language": "python",
   "name": "python3"
  },
  "language_info": {
   "codemirror_mode": {
    "name": "ipython",
    "version": 3
   },
   "file_extension": ".py",
   "mimetype": "text/x-python",
   "name": "python",
   "nbconvert_exporter": "python",
   "pygments_lexer": "ipython3",
   "version": "3.11.3"
  }
 },
 "nbformat": 4,
 "nbformat_minor": 5
}
