{
 "cells": [
  {
   "cell_type": "code",
   "execution_count": 1,
   "id": "c6740be5",
   "metadata": {},
   "outputs": [],
   "source": [
    "import os\n",
    "import csv\n",
    "import pandas as pd\n",
    "\n",
    "GEy_conc = [12.5,25.0,37.5,50.0,62.5,75.0,87.5,100.0,112.5,125.0]\n",
    "GEa_conc = [12.5,25.0,37.5,50.0,62.5,75.0,87.5,100.0,112.5,125.0]\n",
    "GCO_conc = [25.0,50.0,75.0,100.0,125.0,150.0,175.0,200.0,225.0,250.0]\n",
    "GMe_conc = [25.0,50.0,75.0,100.0,125.0,150.0,175.0,200.0,225.0,250.0]\n",
    "\n",
    "def get_concentration(filename):\n",
    "    gas_label = filename[7:10]\n",
    "    conc_idx = int(float(filename[12:15])/10) - 1\n",
    "    if gas_label == 'GEy':\n",
    "        return GEy_conc[conc_idx]\n",
    "    elif gas_label == 'GEa':\n",
    "        return GEa_conc[conc_idx]\n",
    "    elif gas_label == 'GCO':\n",
    "        return GCO_conc[conc_idx]\n",
    "    elif gas_label == 'GMe':\n",
    "        return GMe_conc[conc_idx]\n",
    "    return 'error'\n",
    "\n",
    "def get_dataset_concentrations(PATH, GAS_NAME):\n",
    "    concentrations = np.array([])\n",
    "    dataset = np.empty((0,2400), dtype=float)\n",
    "    \n",
    "    for filename in os.listdir(PATH):\n",
    "        if filename[7:10] == GAS_NAME:\n",
    "            concentrations = np.append(concentrations, get_concentration(filename))\n",
    "\n",
    "            df = pd.read_csv(PATH+filename)\n",
    "            df = df.iloc[:300]\n",
    "\n",
    "            columns_to_concatenate = [col for col in df.columns if col != 'timestamp']\n",
    "\n",
    "            concatenated_row = pd.concat([df[col] for col in columns_to_concatenate], ignore_index=True)\n",
    "\n",
    "            dataset = np.concatenate([dataset, [concatenated_row]])\n",
    "        \n",
    "    return dataset, concentrations\n"
   ]
  },
  {
   "cell_type": "code",
   "execution_count": 3,
   "id": "fe92e14e",
   "metadata": {},
   "outputs": [],
   "source": [
    "IN_PATH = 'data1/edge_samples/training/'\n",
    "OUT_PATH = 'data1/edge_samples/regression/'\n",
    "\n",
    "for filename in os.listdir(IN_PATH):\n",
    "    new_filename = filename.strip('new_B1_')\n",
    "    new_filename = str(int(get_concentration(filename)*10))+\".\"+new_filename\n",
    "    \n",
    "    df = pd.read_csv(IN_PATH+filename)\n",
    "    df.to_csv(OUT_PATH+new_filename,index=False)"
   ]
  }
 ],
 "metadata": {
  "kernelspec": {
   "display_name": "Python 3 (ipykernel)",
   "language": "python",
   "name": "python3"
  },
  "language_info": {
   "codemirror_mode": {
    "name": "ipython",
    "version": 3
   },
   "file_extension": ".py",
   "mimetype": "text/x-python",
   "name": "python",
   "nbconvert_exporter": "python",
   "pygments_lexer": "ipython3",
   "version": "3.11.3"
  }
 },
 "nbformat": 4,
 "nbformat_minor": 5
}
