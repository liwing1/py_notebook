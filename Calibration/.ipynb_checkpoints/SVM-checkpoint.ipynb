{
 "cells": [
  {
   "cell_type": "code",
   "execution_count": 1,
   "id": "aba3e6cc",
   "metadata": {},
   "outputs": [],
   "source": [
    "### IMPORTS\n",
    "import os\n",
    "import csv\n",
    "import numpy as np\n",
    "import pandas as pd\n",
    "from sklearn import svm\n",
    "from sklearn.model_selection import train_test_split\n",
    "from sklearn.metrics import accuracy_score"
   ]
  },
  {
   "cell_type": "code",
   "execution_count": 2,
   "id": "4f434872",
   "metadata": {},
   "outputs": [],
   "source": [
    "### Get dataset from csv files in a folder\n",
    "\n",
    "def get_dataset_label(PATH):\n",
    "    label = np.array([])\n",
    "    dataset = np.empty((0,2400), dtype=float)\n",
    "    \n",
    "    for filename in os.listdir(PATH):\n",
    "        label = np.append(label, filename[7:10])\n",
    "\n",
    "        df = pd.read_csv(PATH+filename)\n",
    "\n",
    "        columns_to_concatenate = [col for col in df.columns if col != 'timestamp']\n",
    "\n",
    "        concatenated_row = pd.concat([df[col] for col in columns_to_concatenate], ignore_index=True)\n",
    "\n",
    "        dataset = np.concatenate([dataset, [concatenated_row]])\n",
    "        \n",
    "    return dataset, label\n"
   ]
  },
  {
   "cell_type": "code",
   "execution_count": 3,
   "id": "ba275430",
   "metadata": {},
   "outputs": [],
   "source": [
    "### Split the data into training and testing sets\n",
    "\n",
    "DATASET_PATH = 'data1/training_samples/'\n",
    "# VALIDATIONSET_PATH = 'data1/validation_samples/'\n",
    "\n",
    "train_set, train_label = get_dataset_label(DATASET_PATH)\n",
    "validation_set, validation_label = get_dataset_label(VALIDATIONSET_PATH)\n"
   ]
  },
  {
   "cell_type": "code",
   "execution_count": 4,
   "id": "e5bb28f4",
   "metadata": {},
   "outputs": [
    {
     "data": {
      "text/html": [
       "<style>#sk-container-id-1 {color: black;background-color: white;}#sk-container-id-1 pre{padding: 0;}#sk-container-id-1 div.sk-toggleable {background-color: white;}#sk-container-id-1 label.sk-toggleable__label {cursor: pointer;display: block;width: 100%;margin-bottom: 0;padding: 0.3em;box-sizing: border-box;text-align: center;}#sk-container-id-1 label.sk-toggleable__label-arrow:before {content: \"▸\";float: left;margin-right: 0.25em;color: #696969;}#sk-container-id-1 label.sk-toggleable__label-arrow:hover:before {color: black;}#sk-container-id-1 div.sk-estimator:hover label.sk-toggleable__label-arrow:before {color: black;}#sk-container-id-1 div.sk-toggleable__content {max-height: 0;max-width: 0;overflow: hidden;text-align: left;background-color: #f0f8ff;}#sk-container-id-1 div.sk-toggleable__content pre {margin: 0.2em;color: black;border-radius: 0.25em;background-color: #f0f8ff;}#sk-container-id-1 input.sk-toggleable__control:checked~div.sk-toggleable__content {max-height: 200px;max-width: 100%;overflow: auto;}#sk-container-id-1 input.sk-toggleable__control:checked~label.sk-toggleable__label-arrow:before {content: \"▾\";}#sk-container-id-1 div.sk-estimator input.sk-toggleable__control:checked~label.sk-toggleable__label {background-color: #d4ebff;}#sk-container-id-1 div.sk-label input.sk-toggleable__control:checked~label.sk-toggleable__label {background-color: #d4ebff;}#sk-container-id-1 input.sk-hidden--visually {border: 0;clip: rect(1px 1px 1px 1px);clip: rect(1px, 1px, 1px, 1px);height: 1px;margin: -1px;overflow: hidden;padding: 0;position: absolute;width: 1px;}#sk-container-id-1 div.sk-estimator {font-family: monospace;background-color: #f0f8ff;border: 1px dotted black;border-radius: 0.25em;box-sizing: border-box;margin-bottom: 0.5em;}#sk-container-id-1 div.sk-estimator:hover {background-color: #d4ebff;}#sk-container-id-1 div.sk-parallel-item::after {content: \"\";width: 100%;border-bottom: 1px solid gray;flex-grow: 1;}#sk-container-id-1 div.sk-label:hover label.sk-toggleable__label {background-color: #d4ebff;}#sk-container-id-1 div.sk-serial::before {content: \"\";position: absolute;border-left: 1px solid gray;box-sizing: border-box;top: 0;bottom: 0;left: 50%;z-index: 0;}#sk-container-id-1 div.sk-serial {display: flex;flex-direction: column;align-items: center;background-color: white;padding-right: 0.2em;padding-left: 0.2em;position: relative;}#sk-container-id-1 div.sk-item {position: relative;z-index: 1;}#sk-container-id-1 div.sk-parallel {display: flex;align-items: stretch;justify-content: center;background-color: white;position: relative;}#sk-container-id-1 div.sk-item::before, #sk-container-id-1 div.sk-parallel-item::before {content: \"\";position: absolute;border-left: 1px solid gray;box-sizing: border-box;top: 0;bottom: 0;left: 50%;z-index: -1;}#sk-container-id-1 div.sk-parallel-item {display: flex;flex-direction: column;z-index: 1;position: relative;background-color: white;}#sk-container-id-1 div.sk-parallel-item:first-child::after {align-self: flex-end;width: 50%;}#sk-container-id-1 div.sk-parallel-item:last-child::after {align-self: flex-start;width: 50%;}#sk-container-id-1 div.sk-parallel-item:only-child::after {width: 0;}#sk-container-id-1 div.sk-dashed-wrapped {border: 1px dashed gray;margin: 0 0.4em 0.5em 0.4em;box-sizing: border-box;padding-bottom: 0.4em;background-color: white;}#sk-container-id-1 div.sk-label label {font-family: monospace;font-weight: bold;display: inline-block;line-height: 1.2em;}#sk-container-id-1 div.sk-label-container {text-align: center;}#sk-container-id-1 div.sk-container {/* jupyter's `normalize.less` sets `[hidden] { display: none; }` but bootstrap.min.css set `[hidden] { display: none !important; }` so we also need the `!important` here to be able to override the default hidden behavior on the sphinx rendered scikit-learn.org. See: https://github.com/scikit-learn/scikit-learn/issues/21755 */display: inline-block !important;position: relative;}#sk-container-id-1 div.sk-text-repr-fallback {display: none;}</style><div id=\"sk-container-id-1\" class=\"sk-top-container\"><div class=\"sk-text-repr-fallback\"><pre>SVC(kernel=&#x27;linear&#x27;)</pre><b>In a Jupyter environment, please rerun this cell to show the HTML representation or trust the notebook. <br />On GitHub, the HTML representation is unable to render, please try loading this page with nbviewer.org.</b></div><div class=\"sk-container\" hidden><div class=\"sk-item\"><div class=\"sk-estimator sk-toggleable\"><input class=\"sk-toggleable__control sk-hidden--visually\" id=\"sk-estimator-id-1\" type=\"checkbox\" checked><label for=\"sk-estimator-id-1\" class=\"sk-toggleable__label sk-toggleable__label-arrow\">SVC</label><div class=\"sk-toggleable__content\"><pre>SVC(kernel=&#x27;linear&#x27;)</pre></div></div></div></div></div>"
      ],
      "text/plain": [
       "SVC(kernel='linear')"
      ]
     },
     "execution_count": 4,
     "metadata": {},
     "output_type": "execute_result"
    }
   ],
   "source": [
    "### Create an SVM classifier\n",
    "clf = svm.SVC(kernel='linear')  # You can change the kernel to 'rbf' for non-linear data\n",
    "\n",
    "# Train the SVM classifier on the training data\n",
    "clf.fit(train_set, train_label)"
   ]
  },
  {
   "cell_type": "code",
   "execution_count": 5,
   "id": "72fdd9b2",
   "metadata": {},
   "outputs": [
    {
     "name": "stdout",
     "output_type": "stream",
     "text": [
      "['GCO' 'GCO' 'GEa' 'GEa' 'GEy' 'GEy' 'GMe' 'GMe']\n",
      "['GCO' 'GCO' 'GEa' 'GEa' 'GEy' 'GEy' 'GMe' 'GMe']\n",
      "Accuracy: 1.0\n"
     ]
    }
   ],
   "source": [
    "# Make predictions on the test data\n",
    "validation_pred = clf.predict(validation_set)\n",
    "\n",
    "print(validation_label)\n",
    "print(validation_pred)\n",
    "\n",
    "# Evaluate the accuracy of the model\n",
    "accuracy = accuracy_score(validation_label, validation_pred)\n",
    "print(\"Accuracy:\", accuracy)"
   ]
  },
  {
   "cell_type": "code",
   "execution_count": 7,
   "id": "5f8ec5b8",
   "metadata": {},
   "outputs": [],
   "source": [
    "### Regression model\n",
    "\n",
    "from sklearn.svm import SVR\n",
    "from sklearn.metrics import mean_squared_error\n",
    "\n",
    "GEy_conc = [12.5,25.0,37.5,50.0,62.5,75.0,87.5,100.0,112.5,125.0]\n",
    "GEa_conc = [12.5,25.0,37.5,50.0,62.5,75.0,87.5,100.0,112.5,125.0]\n",
    "GCO_conc = [25.0,50.0,75.0,100.0,125.0,150.0,175.0,200.0,225.0,250.0]\n",
    "GMe_conc = [25.0,50.0,75.0,100.0,125.0,150.0,175.0,200.0,225.0,250.0]\n",
    "\n",
    "def get_concentration(filename):\n",
    "    gas_label = filename[7:10]\n",
    "    conc_idx = int(float(filename[12:15])/10) - 1\n",
    "    if gas_label == 'GEy':\n",
    "        return GEy_conc[conc_idx]\n",
    "    elif gas_label == 'GEa':\n",
    "        return GEa_conc[conc_idx]\n",
    "    elif gas_label == 'GCO':\n",
    "        return GCO_conc[conc_idx]\n",
    "    elif gas_label == 'GMe':\n",
    "        return GMe_conc[conc_idx]\n",
    "    return 'error'\n",
    "\n",
    "def get_dataset_concentrations(PATH, GAS_NAME):\n",
    "    concentrations = np.array([])\n",
    "    dataset = np.empty((0,2400), dtype=float)\n",
    "    \n",
    "    for filename in os.listdir(PATH):\n",
    "        if filename[7:10] == GAS_NAME:\n",
    "            concentrations = np.append(concentrations, get_concentration(filename))\n",
    "\n",
    "            df = pd.read_csv(PATH+filename)\n",
    "\n",
    "            columns_to_concatenate = [col for col in df.columns if col != 'timestamp']\n",
    "\n",
    "            concatenated_row = pd.concat([df[col] for col in columns_to_concatenate], ignore_index=True)\n",
    "\n",
    "            dataset = np.concatenate([dataset, [concatenated_row]])\n",
    "        \n",
    "    return dataset, concentrations\n"
   ]
  },
  {
   "cell_type": "code",
   "execution_count": 8,
   "id": "ee330898",
   "metadata": {},
   "outputs": [],
   "source": [
    "### Split the data into training and testing sets regression\n",
    "\n",
    "DATASET_PATH = 'data1/training_samples/'\n",
    "VALIDATIONSET_PATH = 'data1/validation_samples/'\n",
    "\n",
    "gco_set, gco_concentrations = get_dataset_concentrations(DATASET_PATH, 'GCO')\n",
    "gea_set, gea_concentrations = get_dataset_concentrations(DATASET_PATH, 'GEa')\n",
    "gey_set, gey_concentrations = get_dataset_concentrations(DATASET_PATH, 'GEy')\n",
    "gme_set, gme_concentrations = get_dataset_concentrations(DATASET_PATH, 'GMe')\n",
    "\n",
    "gco_validation_set, gco_validation_concentrations = get_dataset_concentrations(VALIDATIONSET_PATH, 'GCO')\n",
    "gea_validation_set, gea_validation_concentrations = get_dataset_concentrations(VALIDATIONSET_PATH, 'GEa')\n",
    "gey_validation_set, gey_validation_concentrations = get_dataset_concentrations(VALIDATIONSET_PATH, 'GEy')\n",
    "gme_validation_set, gme_validation_concentrations = get_dataset_concentrations(VALIDATIONSET_PATH, 'GMe')\n"
   ]
  },
  {
   "cell_type": "code",
   "execution_count": 9,
   "id": "514badb2",
   "metadata": {},
   "outputs": [
    {
     "data": {
      "text/html": [
       "<style>#sk-container-id-2 {color: black;background-color: white;}#sk-container-id-2 pre{padding: 0;}#sk-container-id-2 div.sk-toggleable {background-color: white;}#sk-container-id-2 label.sk-toggleable__label {cursor: pointer;display: block;width: 100%;margin-bottom: 0;padding: 0.3em;box-sizing: border-box;text-align: center;}#sk-container-id-2 label.sk-toggleable__label-arrow:before {content: \"▸\";float: left;margin-right: 0.25em;color: #696969;}#sk-container-id-2 label.sk-toggleable__label-arrow:hover:before {color: black;}#sk-container-id-2 div.sk-estimator:hover label.sk-toggleable__label-arrow:before {color: black;}#sk-container-id-2 div.sk-toggleable__content {max-height: 0;max-width: 0;overflow: hidden;text-align: left;background-color: #f0f8ff;}#sk-container-id-2 div.sk-toggleable__content pre {margin: 0.2em;color: black;border-radius: 0.25em;background-color: #f0f8ff;}#sk-container-id-2 input.sk-toggleable__control:checked~div.sk-toggleable__content {max-height: 200px;max-width: 100%;overflow: auto;}#sk-container-id-2 input.sk-toggleable__control:checked~label.sk-toggleable__label-arrow:before {content: \"▾\";}#sk-container-id-2 div.sk-estimator input.sk-toggleable__control:checked~label.sk-toggleable__label {background-color: #d4ebff;}#sk-container-id-2 div.sk-label input.sk-toggleable__control:checked~label.sk-toggleable__label {background-color: #d4ebff;}#sk-container-id-2 input.sk-hidden--visually {border: 0;clip: rect(1px 1px 1px 1px);clip: rect(1px, 1px, 1px, 1px);height: 1px;margin: -1px;overflow: hidden;padding: 0;position: absolute;width: 1px;}#sk-container-id-2 div.sk-estimator {font-family: monospace;background-color: #f0f8ff;border: 1px dotted black;border-radius: 0.25em;box-sizing: border-box;margin-bottom: 0.5em;}#sk-container-id-2 div.sk-estimator:hover {background-color: #d4ebff;}#sk-container-id-2 div.sk-parallel-item::after {content: \"\";width: 100%;border-bottom: 1px solid gray;flex-grow: 1;}#sk-container-id-2 div.sk-label:hover label.sk-toggleable__label {background-color: #d4ebff;}#sk-container-id-2 div.sk-serial::before {content: \"\";position: absolute;border-left: 1px solid gray;box-sizing: border-box;top: 0;bottom: 0;left: 50%;z-index: 0;}#sk-container-id-2 div.sk-serial {display: flex;flex-direction: column;align-items: center;background-color: white;padding-right: 0.2em;padding-left: 0.2em;position: relative;}#sk-container-id-2 div.sk-item {position: relative;z-index: 1;}#sk-container-id-2 div.sk-parallel {display: flex;align-items: stretch;justify-content: center;background-color: white;position: relative;}#sk-container-id-2 div.sk-item::before, #sk-container-id-2 div.sk-parallel-item::before {content: \"\";position: absolute;border-left: 1px solid gray;box-sizing: border-box;top: 0;bottom: 0;left: 50%;z-index: -1;}#sk-container-id-2 div.sk-parallel-item {display: flex;flex-direction: column;z-index: 1;position: relative;background-color: white;}#sk-container-id-2 div.sk-parallel-item:first-child::after {align-self: flex-end;width: 50%;}#sk-container-id-2 div.sk-parallel-item:last-child::after {align-self: flex-start;width: 50%;}#sk-container-id-2 div.sk-parallel-item:only-child::after {width: 0;}#sk-container-id-2 div.sk-dashed-wrapped {border: 1px dashed gray;margin: 0 0.4em 0.5em 0.4em;box-sizing: border-box;padding-bottom: 0.4em;background-color: white;}#sk-container-id-2 div.sk-label label {font-family: monospace;font-weight: bold;display: inline-block;line-height: 1.2em;}#sk-container-id-2 div.sk-label-container {text-align: center;}#sk-container-id-2 div.sk-container {/* jupyter's `normalize.less` sets `[hidden] { display: none; }` but bootstrap.min.css set `[hidden] { display: none !important; }` so we also need the `!important` here to be able to override the default hidden behavior on the sphinx rendered scikit-learn.org. See: https://github.com/scikit-learn/scikit-learn/issues/21755 */display: inline-block !important;position: relative;}#sk-container-id-2 div.sk-text-repr-fallback {display: none;}</style><div id=\"sk-container-id-2\" class=\"sk-top-container\"><div class=\"sk-text-repr-fallback\"><pre>SVR(kernel=&#x27;linear&#x27;)</pre><b>In a Jupyter environment, please rerun this cell to show the HTML representation or trust the notebook. <br />On GitHub, the HTML representation is unable to render, please try loading this page with nbviewer.org.</b></div><div class=\"sk-container\" hidden><div class=\"sk-item\"><div class=\"sk-estimator sk-toggleable\"><input class=\"sk-toggleable__control sk-hidden--visually\" id=\"sk-estimator-id-2\" type=\"checkbox\" checked><label for=\"sk-estimator-id-2\" class=\"sk-toggleable__label sk-toggleable__label-arrow\">SVR</label><div class=\"sk-toggleable__content\"><pre>SVR(kernel=&#x27;linear&#x27;)</pre></div></div></div></div></div>"
      ],
      "text/plain": [
       "SVR(kernel='linear')"
      ]
     },
     "execution_count": 9,
     "metadata": {},
     "output_type": "execute_result"
    }
   ],
   "source": [
    "# Create an SVM regression model\n",
    "gco_regressor = SVR(kernel='linear')  # You can change the kernel to 'rbf' for non-linear data\n",
    "gea_regressor = SVR(kernel='linear')  # You can change the kernel to 'rbf' for non-linear data\n",
    "gey_regressor = SVR(kernel='linear')  # You can change the kernel to 'rbf' for non-linear data\n",
    "gme_regressor = SVR(kernel='linear')  # You can change the kernel to 'rbf' for non-linear data\n",
    "\n",
    "# Train the SVM regression model on the training data\n",
    "gco_regressor.fit(gco_set, gco_concentrations)\n",
    "gea_regressor.fit(gea_set, gea_concentrations)\n",
    "gey_regressor.fit(gey_set, gey_concentrations)\n",
    "gme_regressor.fit(gme_set, gme_concentrations)\n"
   ]
  },
  {
   "cell_type": "code",
   "execution_count": 11,
   "id": "c2308d1e",
   "metadata": {},
   "outputs": [
    {
     "name": "stdout",
     "output_type": "stream",
     "text": [
      "GCO predict labels: ['GCO' 'GCO']\n",
      "GCO predict concentrations: [102.85411069 182.26770193]\n",
      "GCO actual concentrations: [ 75. 175.]\n",
      "GCO Mean Squared Error: 414.3354867484866\n",
      "\n",
      "\n",
      "GEa predict labels: ['GEa' 'GEa']\n",
      "GEa predict concentrations: [45.29962325 95.08145683]\n",
      "GEa actual concentrations: [37.5 87.5]\n",
      "GEa Mean Squared Error: 59.156305284212905\n",
      "\n",
      "\n",
      "GEy predict labels: ['GEy' 'GEy']\n",
      "GEy predict concentrations: [38.37933519 83.15720355]\n",
      "GEy actual concentrations: [37.5 87.5]\n",
      "GEy Mean Squared Error: 9.816555704387106\n",
      "\n",
      "\n",
      "GMe predict labels: ['GMe' 'GMe']\n",
      "GMe predict concentrations: [ 65.49883046 186.91628784]\n",
      "GMe actual concentrations: [ 75. 175.]\n",
      "GMe Mean Squared Error: 116.13506917055633\n"
     ]
    }
   ],
   "source": [
    "# Make predictions on the test data\n",
    "gco_validation_pred = clf.predict(gco_validation_set)\n",
    "gea_validation_pred = clf.predict(gea_validation_set)\n",
    "gey_validation_pred = clf.predict(gey_validation_set)\n",
    "gme_validation_pred = clf.predict(gme_validation_set)\n",
    "\n",
    "\n",
    "gco_predicted_concentrations = gco_regressor.predict(gco_validation_set)\n",
    "gea_predicted_concentrations = gea_regressor.predict(gea_validation_set)\n",
    "gey_predicted_concentrations = gey_regressor.predict(gey_validation_set)\n",
    "gme_predicted_concentrations = gme_regressor.predict(gme_validation_set)\n",
    "\n",
    "gco_mse = mean_squared_error(gco_validation_concentrations, gco_predicted_concentrations)\n",
    "gea_mse = mean_squared_error(gea_validation_concentrations, gea_predicted_concentrations)\n",
    "gey_mse = mean_squared_error(gey_validation_concentrations, gey_predicted_concentrations)\n",
    "gme_mse = mean_squared_error(gme_validation_concentrations, gme_predicted_concentrations)\n",
    "\n",
    "\n",
    "print(\"GCO predict labels:\", gco_validation_pred)\n",
    "print(\"GCO predict concentrations:\", gco_predicted_concentrations)\n",
    "print(\"GCO actual concentrations:\", gco_validation_concentrations)\n",
    "print(\"GCO Mean Squared Error:\", gco_mse)\n",
    "print(\"\\n\")\n",
    "\n",
    "print(\"GEa predict labels:\", gea_validation_pred)\n",
    "print(\"GEa predict concentrations:\", gea_predicted_concentrations)\n",
    "print(\"GEa actual concentrations:\", gea_validation_concentrations)\n",
    "print(\"GEa Mean Squared Error:\", gea_mse)\n",
    "print(\"\\n\")\n",
    "\n",
    "print(\"GEy predict labels:\", gey_validation_pred)\n",
    "print(\"GEy predict concentrations:\", gey_predicted_concentrations)\n",
    "print(\"GEy actual concentrations:\", gey_validation_concentrations)\n",
    "print(\"GEy Mean Squared Error:\", gey_mse)\n",
    "print(\"\\n\")\n",
    "\n",
    "print(\"GMe predict labels:\", gme_validation_pred)\n",
    "print(\"GMe predict concentrations:\", gme_predicted_concentrations)\n",
    "print(\"GMe actual concentrations:\", gme_validation_concentrations)\n",
    "print(\"GMe Mean Squared Error:\", gme_mse)\n",
    "\n",
    "\n",
    "# Evaluate the performance of the model using Mean Squared Error (MSE)\n",
    "# mse = mean_squared_error(validation_concentrations, validation_pred)\n",
    "# print(\"Mean Squared Error:\", mse)"
   ]
  }
 ],
 "metadata": {
  "kernelspec": {
   "display_name": "Python 3 (ipykernel)",
   "language": "python",
   "name": "python3"
  },
  "language_info": {
   "codemirror_mode": {
    "name": "ipython",
    "version": 3
   },
   "file_extension": ".py",
   "mimetype": "text/x-python",
   "name": "python",
   "nbconvert_exporter": "python",
   "pygments_lexer": "ipython3",
   "version": "3.11.3"
  }
 },
 "nbformat": 4,
 "nbformat_minor": 5
}
