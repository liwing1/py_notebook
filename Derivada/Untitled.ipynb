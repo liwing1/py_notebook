{
 "cells": [
  {
   "cell_type": "code",
   "execution_count": 1,
   "id": "c93b9008",
   "metadata": {},
   "outputs": [],
   "source": [
    "import os\n",
    "import csv\n",
    "import numpy as np\n",
    "import pandas as pd\n",
    "import matplotlib.pyplot as plt\n",
    "\n",
    "DATASET_PATH = 'data1/'\n",
    "RESAMPLE_PATH = 'resample/'"
   ]
  },
  {
   "cell_type": "code",
   "execution_count": 2,
   "id": "d20bdc64",
   "metadata": {},
   "outputs": [],
   "source": [
    "### Convert all the TXT files to CSV\n",
    "\n",
    "# def txt_to_csv(txt_filename, header):\n",
    "#     with open(txt_filename, 'r') as txt_file:\n",
    "#         content = txt_file.readlines()\n",
    "\n",
    "#     # Split each line into columns and remove leading/trailing whitespaces\n",
    "#     content = [line.strip().split() for line in content]\n",
    "\n",
    "#     # Write the data into a CSV file\n",
    "#     csv_filename = txt_filename.replace('.txt', '.csv')\n",
    "#     with open(csv_filename, 'w', newline='') as csv_file:\n",
    "#         writer = csv.writer(csv_file)\n",
    "#         writer.writerow(header)\n",
    "#         writer.writerows(content)\n"
   ]
  },
  {
   "cell_type": "code",
   "execution_count": 3,
   "id": "b26a8409",
   "metadata": {},
   "outputs": [],
   "source": [
    "header = ['timestamp', 'TGS2611-5.65','TGS2612-5.65','TGS2610-5.65','TGS2602-5.65','TGS2611-5.00','TGS2612-5.00','TGS2610-5.00', 'TGS2602-5.00']  # Custom header for the CSV file\n",
    "\n",
    "# for filename in os.listdir(DATASET_PATH):\n",
    "#     txt_to_csv(DATASET_PATH+filename, header)"
   ]
  },
  {
   "cell_type": "code",
   "execution_count": 12,
   "id": "eef88353",
   "metadata": {},
   "outputs": [],
   "source": [
    "from sklearn.preprocessing import PolynomialFeatures\n",
    "from sklearn.tree import DecisionTreeRegressor\n",
    "\n",
    "def create_nonlinear_regression_and_resample(csv_file, output_file, time_vector, degree=5):\n",
    "    # Load data from CSV file\n",
    "    df = pd.read_csv(csv_file)\n",
    "\n",
    "    # Create an empty DataFrame to store the resampled values\n",
    "    resampled_df = pd.DataFrame({'timestamp': time_vector})\n",
    "\n",
    "    # Iterate over each column and perform non-linear regression\n",
    "    for col in df.columns:\n",
    "        if col == 'timestamp':\n",
    "            continue\n",
    "\n",
    "        # Extract the x and y values for the regression\n",
    "        x = df['timestamp'].values.reshape(-1, 1)\n",
    "        y = df[col].values\n",
    "\n",
    "        # Create polynomial features\n",
    "        poly = PolynomialFeatures(degree=degree)\n",
    "        x_poly = poly.fit_transform(x)\n",
    "\n",
    "        # Create a polynomial regression model\n",
    "        model = DecisionTreeRegressor()\n",
    "        model.fit(x_poly, y)\n",
    "\n",
    "        # Predict values using the fitted model for the new time vector\n",
    "        time_vector_poly = poly.transform(np.array(time_vector).reshape(-1, 1))\n",
    "        predicted_values = model.predict(time_vector_poly)\n",
    "\n",
    "        # Store the predicted values in the resampled DataFrame\n",
    "        resampled_df[col] = predicted_values.round(4)\n",
    "\n",
    "    resampled_df['timestamp'] = (resampled_df['timestamp'].round(2))\n",
    "    resampled_df.to_csv(output_file, index=False)"
   ]
  },
  {
   "cell_type": "code",
   "execution_count": 14,
   "id": "51f4cd74",
   "metadata": {},
   "outputs": [],
   "source": [
    "for filename in os.listdir(DATASET_PATH):\n",
    "    input_file = DATASET_PATH + filename       # Replace 'input.csv' with your input file name\n",
    "    output_file = RESAMPLE_PATH + filename     # Replace 'output.csv' with your desired output file name\n",
    "    timevector = np.linspace(0, 599.99, 60000)\n",
    "    \n",
    "    create_nonlinear_regression_and_resample(input_file, output_file, timevector)\n",
    "    break"
   ]
  },
  {
   "cell_type": "code",
   "execution_count": null,
   "id": "3fbb5fc1",
   "metadata": {},
   "outputs": [],
   "source": []
  }
 ],
 "metadata": {
  "kernelspec": {
   "display_name": "Python 3 (ipykernel)",
   "language": "python",
   "name": "python3"
  },
  "language_info": {
   "codemirror_mode": {
    "name": "ipython",
    "version": 3
   },
   "file_extension": ".py",
   "mimetype": "text/x-python",
   "name": "python",
   "nbconvert_exporter": "python",
   "pygments_lexer": "ipython3",
   "version": "3.11.3"
  }
 },
 "nbformat": 4,
 "nbformat_minor": 5
}
